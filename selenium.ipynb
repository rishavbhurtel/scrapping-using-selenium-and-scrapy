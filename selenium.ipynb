{
 "cells": [
  {
   "cell_type": "code",
   "execution_count": 1,
   "metadata": {},
   "outputs": [],
   "source": [
    "import json\n",
    "import time\n",
    "\n",
    "from bs4 import BeautifulSoup\n",
    "import requests\n",
    "import pandas as pd\n",
    "\n",
    "from selenium import webdriver\n",
    "from selenium.common.exceptions import NoSuchElementException\n",
    "from selenium.common.exceptions import TimeoutException\n",
    "from selenium.webdriver.support.ui import WebDriverWait\n",
    "from selenium.webdriver.support import expected_conditions as EC\n",
    "from selenium.webdriver.common.by import By\n",
    "from selenium.webdriver.firefox.options import Options\n",
    "\n",
    "from tqdm import tqdm"
   ]
  },
  {
   "cell_type": "code",
   "execution_count": 2,
   "metadata": {},
   "outputs": [],
   "source": [
    "base_url = \"https://www.trustpilot.com\""
   ]
  },
  {
   "cell_type": "code",
   "execution_count": 3,
   "metadata": {},
   "outputs": [],
   "source": [
    "def get_soup(url):\n",
    "    return BeautifulSoup(requests.get(url).content, 'lxml')"
   ]
  },
  {
   "cell_type": "code",
   "execution_count": 5,
   "metadata": {},
   "outputs": [],
   "source": [
    "#fetching sub-categories urls:\n",
    "\n",
    "data = {}\n",
    "\n",
    "soup = get_soup(base_url + '/categories')\n",
    "for category in soup.findAll('div', {'class': 'subCategory___BRUDy'}):\n",
    "    name = category.find('h3', {'class': 'subCategoryHeader___36ykD'}).text\n",
    "    name = name.strip()\n",
    "    data[name] = {}\n",
    "    \n",
    "    sub_categories = category.find('div', {'class': 'subCategoryList___r67Qj'})\n",
    "    for sub_category in sub_categories.findAll('div', {'class': 'subCategoryItem___3ksKz'}):\n",
    "        sub_category_name = sub_category.find('a', {'class': 'navigation___2n5P8'}).text \n",
    "        sub_category_uri = sub_category.find('a', {'class': 'navigation___2n5P8'})['href'] \n",
    "        data[name][sub_category_name] = sub_category_uri"
   ]
  },
  {
   "cell_type": "code",
   "execution_count": 6,
   "metadata": {},
   "outputs": [
    {
     "data": {
      "text/plain": [
       "22"
      ]
     },
     "execution_count": 6,
     "metadata": {},
     "output_type": "execute_result"
    }
   ],
   "source": [
    "len(data)"
   ]
  },
  {
   "cell_type": "code",
   "execution_count": 7,
   "metadata": {},
   "outputs": [
    {
     "data": {
      "text/plain": [
       "{'Animals & Pets': {'Animal Health': '/categories/animal_health',\n",
       "  'Animal Parks & Zoo': '/categories/animal_parks_zoo',\n",
       "  'Cats & Dogs': '/categories/cats_dogs',\n",
       "  'Horses & Riding': '/categories/horses_riding',\n",
       "  'Pet Services': '/categories/pet_services',\n",
       "  'Pet Stores': '/categories/pet_stores'},\n",
       " 'Beauty & Well-being': {'Cosmetics & Makeup': '/categories/cosmetics_makeup',\n",
       "  'Hair Care & Styling': '/categories/hair_care_styling',\n",
       "  'Personal Care': '/categories/personal_care',\n",
       "  'Salons & Clinics': '/categories/salons_clinics',\n",
       "  'Tattoos & Piercings': '/categories/tattoos_piercings',\n",
       "  'Wellness & Spa': '/categories/wellness_spa',\n",
       "  'Yoga & Meditation': '/categories/yoga_meditation'},\n",
       " 'Business Services': {'Administration & Services': '/categories/administration_services',\n",
       "  'Associations & Centers': '/categories/associations_centers',\n",
       "  'HR & Recruiting': '/categories/hr_recruiting',\n",
       "  'IT & Communication': '/categories/it_communication',\n",
       "  'Import & Export': '/categories/import_export',\n",
       "  'Office Space & Supplies': '/categories/office_space_supplies',\n",
       "  'Print & Graphic Design': '/categories/print_graphic_design',\n",
       "  'Research & Development': '/categories/research_development',\n",
       "  'Sales & Marketing': '/categories/sales_marketing',\n",
       "  'Shipping & Logistics': '/categories/shipping_logistics',\n",
       "  'Wholesale': '/categories/wholesale'},\n",
       " 'Construction & Manufacturing': {'Architects & Engineers': '/categories/architects_engineers',\n",
       "  'Building Materials': '/categories/building_materials',\n",
       "  'Chemicals & Plastic': '/categories/chemicals_plastic',\n",
       "  'Construction Services': '/categories/construction_services',\n",
       "  'Contractors & Consultants': '/categories/contractors_consultants',\n",
       "  'Factory Equipment': '/categories/factory_equipment',\n",
       "  'Garden & Landscaping': '/categories/garden_landscaping',\n",
       "  'Industrial Supplies': '/categories/industrial_supplies',\n",
       "  'Manufacturing': '/categories/manufacturing',\n",
       "  'Production Services': '/categories/production_services',\n",
       "  'Tools & Equipment': '/categories/tools_equipment'},\n",
       " 'Education & Training': {'Colleges & Universities': '/categories/colleges_universities',\n",
       "  'Courses & Classes': '/categories/courses_classes',\n",
       "  'Education Services': '/categories/education_services',\n",
       "  'Language Learning': '/categories/language_learning',\n",
       "  'Music & Theater Classes': '/categories/music_theater_classes',\n",
       "  'School & High School': '/categories/school_high_school',\n",
       "  'Specials Schools': '/categories/specials_schools',\n",
       "  'Vocational Training': '/categories/vocational_training'},\n",
       " 'Electronics & Technology': {'Appliances & Electronics': '/categories/appliances_electronics',\n",
       "  'Audio & Visual': '/categories/audio_visual',\n",
       "  'Computers & Phones': '/categories/computers_phones',\n",
       "  'Internet & Software': '/categories/internet_software',\n",
       "  'Repair & Services': '/categories/repair_services'},\n",
       " 'Events & Entertainment': {'Adult Entertainment': '/categories/adult_entertainment',\n",
       "  \"Children's Entertainment\": '/categories/childrens_entertainment',\n",
       "  'Clubbing & Nightlife': '/categories/clubbing_nightlife',\n",
       "  'Events & Venues': '/categories/events_venues',\n",
       "  'Gambling': '/categories/gambling',\n",
       "  'Gaming': '/categories/gaming',\n",
       "  'Museums & Exibits': '/categories/museums_exibits',\n",
       "  'Music & Movies': '/categories/music_movies',\n",
       "  'Theater & Opera': '/categories/theater_opera',\n",
       "  'Wedding & Party': '/categories/wedding_party'},\n",
       " 'Food, Beverages & Tobacco': {'Agriculture & Produce': '/categories/agriculture_produce',\n",
       "  'Asian Grocery Stores': '/categories/asian_grocery_stores',\n",
       "  'Bakery & Pastry': '/categories/bakery_pastry',\n",
       "  'Beer & Wine': '/categories/beer_wine',\n",
       "  'Beverages & Liquor': '/categories/beverages_liquor',\n",
       "  'Butcher': '/categories/butcher',\n",
       "  'Candy & Chocolate': '/categories/candy_chocolate',\n",
       "  'Coffee & Tea': '/categories/coffee_tea',\n",
       "  'Food Production': '/categories/food_production',\n",
       "  'Fruits & Vegetables': '/categories/fruits_vegetables',\n",
       "  'Grocery Stores & Markets': '/categories/grocery_stores_markets',\n",
       "  'Lunch & Catering': '/categories/lunch_catering',\n",
       "  'Meat, Seafood & Eggs': '/categories/meat_seafood_eggs',\n",
       "  'Smoking & Tobacco': '/categories/smoking_tobacco',\n",
       "  'Tobacco Store': '/categories/tobacco_store'},\n",
       " 'Health & Medical': {'Clinics': '/categories/clinics',\n",
       "  'Dental Services': '/categories/dental_services',\n",
       "  'Diagnostics & Testing': '/categories/diagnostics_testing',\n",
       "  'Doctors & Surgeons': '/categories/doctors_surgeons',\n",
       "  'Health Equipment': '/categories/health_equipment',\n",
       "  'Hospital & Emergency': '/categories/hospital_emergency',\n",
       "  'Medical Specialists': '/categories/medical_specialists',\n",
       "  'Mental Health': '/categories/mental_health',\n",
       "  'Pharmacy & Medicine': '/categories/pharmacy_medicine',\n",
       "  'Physical Aids': '/categories/physical_aids',\n",
       "  'Pregnancy & Children': '/categories/pregnancy_children',\n",
       "  'Therapy & Senior Health': '/categories/therapy_senior_health',\n",
       "  'Vision & Hearing': '/categories/vision_hearing'},\n",
       " 'Hobbies & Crafts': {'Art & Handicraft': '/categories/art_handicraft',\n",
       "  'Astrology & Numerology': '/categories/astrology_numerology',\n",
       "  'Fishing & Hunting': '/categories/fishing_hunting',\n",
       "  'Hobbies': '/categories/hobbies',\n",
       "  'Metal, Stone & Glass Work': '/categories/metal_stone_glass_work',\n",
       "  'Music & Instruments': '/categories/music_instruments',\n",
       "  'Needlework & Knitting': '/categories/needlework_knitting',\n",
       "  'Outdoor Activities': '/categories/outdoor_activities',\n",
       "  'Painting & Paper': '/categories/painting_paper'},\n",
       " 'Home & Garden': {'Bathroom & Kitchen': '/categories/bathroom_kitchen',\n",
       "  'Cultural Goods': '/categories/cultural_goods',\n",
       "  'Decoration & Interior': '/categories/decoration_interior',\n",
       "  'Energy & Heating': '/categories/energy_heating',\n",
       "  'Fabric & Stationery': '/categories/fabric_stationary',\n",
       "  'Furniture Stores': '/categories/furniture_stores',\n",
       "  'Garden & Pond': '/categories/garden_pond',\n",
       "  'Home & Garden Services': '/categories/home_garden_services',\n",
       "  'Home Goods Stores': '/categories/home_goods_stores',\n",
       "  'Home Improvements': '/categories/home_improvements'},\n",
       " 'Home Services': {'Cleaning Service Providers': '/categories/cleaning_service_providers',\n",
       "  'Craftsman': '/categories/craftsman',\n",
       "  'House Services': '/categories/house_services',\n",
       "  'House Sitting & Security': '/categories/house_sitting_security',\n",
       "  'Moving & Storage': '/categories/moving_storage',\n",
       "  'Plumbing & Sanitation': '/categories/plumbing_sanitation',\n",
       "  'Repair Service Providers': '/categories/repair_service_providers'},\n",
       " 'Legal Services & Government': {'Customs & Toll': '/categories/customs_toll',\n",
       "  'Government Department': '/categories/government_department',\n",
       "  'Law Enforcement': '/categories/law_enforcement',\n",
       "  'Lawyers & Attorneys': '/categories/lawyers_attorneys',\n",
       "  'Legal Service Providers': '/categories/legal_service_providers',\n",
       "  'Libraries & Archives': '/categories/libraries_archives',\n",
       "  'Municipal Department': '/categories/municipal_department',\n",
       "  'Registration Services': '/categories/registration_services'},\n",
       " 'Media & Publishing': {'Books & Magazines': '/categories/books_magazines',\n",
       "  'Media & Information': '/categories/media_information',\n",
       "  'Photography': '/categories/photography',\n",
       "  'Video & Sound': '/categories/video_sound'},\n",
       " 'Money & Insurance': {'Accounting & Tax': '/categories/accounting_tax',\n",
       "  'Banking & Money': '/categories/banking_money',\n",
       "  'Credit & Debt Services': '/categories/credit_debt_services',\n",
       "  'Insurance': '/categories/insurance',\n",
       "  'Investments & Wealth': '/categories/investments_wealth',\n",
       "  'Real Estate': '/categories/real_estate'},\n",
       " 'Public & Local Services': {'Employment & Career': '/categories/employment_career',\n",
       "  'Funeral & Memorial': '/categories/funeral_memorial',\n",
       "  'Housing Associations': '/categories/housing_associations',\n",
       "  'Kids & Family': '/categories/kids_family',\n",
       "  'Military & Veteran': '/categories/military_veteran',\n",
       "  'Nature & Environment': '/categories/nature_environment',\n",
       "  'Professional Organizations': '/categories/professional_organizations',\n",
       "  'Public Services & Welfare': '/categories/public_services_welfare',\n",
       "  'Religious Institutions': '/categories/religious_institutions',\n",
       "  'Shelters & Homes': '/categories/shelters_homes',\n",
       "  'Waste Management': '/categories/waste_management'},\n",
       " 'Restaurants & Bars': {'Bars & Cafes': '/categories/bars_cafes',\n",
       "  'European Cuisine': '/categories/european_cuisine',\n",
       "  'General Restaurants': '/categories/general_restaurants',\n",
       "  'Mediterranean Cuisine': '/categories/mediterranean_cuisine',\n",
       "  'Middle Eastern Cuisine': '/categories/middle_eastern_cuisine',\n",
       "  'North & South American Cuisine': '/categories/north_south_american_cuisine',\n",
       "  'Southeast Asian Cuisine': '/categories/southeast_asian_cuisine',\n",
       "  'Takeaway': '/categories/takeaway',\n",
       "  'Vegetarian & Diet': '/categories/vegetarian_diet'},\n",
       " 'Shopping & Fashion': {'Accessories': '/categories/accessories',\n",
       "  'Clothing & Underwear': '/categories/clothing_underwear',\n",
       "  'Clothing Rental & Repair': '/categories/clothing_rental_repair',\n",
       "  'Costume & Wedding': '/categories/costume_wedding',\n",
       "  'Jewelry & Watches': '/categories/jewelry_watches',\n",
       "  'Malls & Marketplaces': '/categories/malls_marketplaces'},\n",
       " 'Sports': {'Ball Games': '/categories/ball_games',\n",
       "  'Bat-and-ball Games': '/categories/bat-and-ball_games',\n",
       "  'Bowls & Lawn Sports': '/categories/bowls_lawn_sports',\n",
       "  'Dancing & Gymnastics': '/categories/dancing_gymnastics',\n",
       "  'Equipment & Associations': '/categories/equipment_associations',\n",
       "  'Extreme Sports': '/categories/extreme_sports',\n",
       "  'Fitness & Weight Lifting': '/categories/fitness_weight_lifting',\n",
       "  'Golf & Ultimate': '/categories/golf_ultimate',\n",
       "  'Hockey & Ice Skating': '/categories/hockey_ice_skating',\n",
       "  'Martial arts & Wrestling': '/categories/martial_arts_wrestling',\n",
       "  'Outdoor & Winter Sports': '/categories/outdoor_winter_sports',\n",
       "  'Shooting & Target Sports': '/categories/shooting_target_sports',\n",
       "  'Swimming & Water Sports': '/categories/swimming_water_sports',\n",
       "  'Tennis & Racquet Sports': '/categories/tennis_racquet_sports'},\n",
       " 'Travel & Vacation': {'Accommodation & Lodging': '/categories/accomodations_lodging',\n",
       "  'Activities & Tours': '/categories/activities_tours',\n",
       "  'Airlines & Air Travel': '/categories/airlines_air_travel',\n",
       "  'Hotels': '/categories/hotels',\n",
       "  'Travel Agencies': '/categories/travel_agencies'},\n",
       " 'Utilities': {'Energy & Power': '/categories/energy_power',\n",
       "  'Water Utilities': '/categories/water_utilities'},\n",
       " 'Vehicles & Transportation': {'Air & Water Transport': '/categories/air_water_transport',\n",
       "  'Airports & Parking': '/categories/airports_parking',\n",
       "  'Auto Parts & Wheels': '/categories/auto_parts_wheels',\n",
       "  'Bicycles': '/categories/bicycles',\n",
       "  'Cars & Trucks': '/categories/cars_trucks',\n",
       "  'Motorcycle & Powersports': '/categories/motorcycle_powersports',\n",
       "  'Other Vehicles & Trailers': '/categories/other_vehicles_trailers',\n",
       "  'Taxis & Public Transport': '/categories/taxis_public_transport',\n",
       "  'Vehical Rental': '/categories/vehical_rental',\n",
       "  'Vehicle Repair & Fuel': '/categories/vehicle_repair_fuel'}}"
      ]
     },
     "execution_count": 7,
     "metadata": {},
     "output_type": "execute_result"
    }
   ],
   "source": [
    "data"
   ]
  },
  {
   "cell_type": "code",
   "execution_count": null,
   "metadata": {},
   "outputs": [],
   "source": [
    "# data = dict((key,value) for key, value in data.items() if key == 'Events & Entertainment')"
   ]
  },
  {
   "cell_type": "code",
   "execution_count": null,
   "metadata": {},
   "outputs": [],
   "source": [
    "data.pop(\"Events & Entertainment\")\n",
    "data.pop(\"Home Services\")"
   ]
  },
  {
   "cell_type": "code",
   "execution_count": null,
   "metadata": {},
   "outputs": [],
   "source": [
    "data"
   ]
  },
  {
   "cell_type": "code",
   "execution_count": 8,
   "metadata": {},
   "outputs": [],
   "source": [
    "# fetch company urls referenced in a given subcategory:\n",
    "\n",
    "def extract_company_urls_form_page():\n",
    "    a_list = driver.find_elements_by_xpath('(//div[@class=\"businessUnitCardsContainer___Qhix1\"])/a')\n",
    "    urls = [a.get_attribute('href') for a in a_list]\n",
    "    dedup_urls = list(set(urls))\n",
    "    return dedup_urls"
   ]
  },
  {
   "cell_type": "code",
   "execution_count": 9,
   "metadata": {},
   "outputs": [],
   "source": [
    "# if a pagination exists on the page:\n",
    "\n",
    "def go_next_page():\n",
    "    try:\n",
    "        button = driver.find_element_by_xpath('//a[@class=\"paginationLinkNormalize___scOgG paginationLinkNext___1LQ14\"]')\n",
    "        return True, button\n",
    "    except NoSuchElementException:\n",
    "        return False, None"
   ]
  },
  {
   "cell_type": "code",
   "execution_count": 10,
   "metadata": {},
   "outputs": [],
   "source": [
    "# initializing Selenium with a headless firefoxdriver:\n",
    "\n",
    "options = Options()\n",
    "options.add_argument('-headless')\n",
    "options.add_argument('-no-sandbox')\n",
    "options.add_argument('start-maximized')\n",
    "options.add_argument('disable-infobars')\n",
    "options.add_argument(\"--disable-extensions\")\n",
    "\n",
    "# profile = webdriver.FirefoxProfile()\n",
    "# profile.set_preference(\"browser.cache.disk.enable\", False)\n",
    "# profile.set_preference(\"browser.cache.memory.enable\", False)\n",
    "# profile.set_preference(\"browser.cache.offline.enable\", False)\n",
    "# profile.set_preference(\"network.http.use-cache\", False)\n",
    "\n",
    "driver = webdriver.Firefox(executable_path=r\"/usr/bin/geckodriver\", options=options)\n",
    "\n",
    "timeout = 3"
   ]
  },
  {
   "cell_type": "code",
   "execution_count": null,
   "metadata": {},
   "outputs": [
    {
     "name": "stderr",
     "output_type": "stream",
     "text": [
      "  0%|          | 0/22 [00:00<?, ?it/s]\n",
      "  0%|          | 0/6 [00:00<?, ?it/s]\u001b[A"
     ]
    },
    {
     "name": "stdout",
     "output_type": "stream",
     "text": [
      "Category is:  Animals & Pets\n",
      "Sub-Category is:  Animal Health\n",
      "URL is:  https://www.trustpilot.com/categories/animal_health?numberofreviews=0&status=all&timeperiod=0\n"
     ]
    },
    {
     "name": "stderr",
     "output_type": "stream",
     "text": [
      "\n",
      " 17%|█▋        | 1/6 [00:10<00:50, 10.14s/it]\u001b[A"
     ]
    },
    {
     "name": "stdout",
     "output_type": "stream",
     "text": [
      "Category is:  Animals & Pets\n",
      "Sub-Category is:  Animal Parks & Zoo\n",
      "URL is:  https://www.trustpilot.com/categories/animal_parks_zoo?numberofreviews=0&status=all&timeperiod=0\n"
     ]
    },
    {
     "name": "stderr",
     "output_type": "stream",
     "text": [
      "\n",
      " 33%|███▎      | 2/6 [00:15<00:34,  8.75s/it]\u001b[A"
     ]
    },
    {
     "name": "stdout",
     "output_type": "stream",
     "text": [
      "Category is:  Animals & Pets\n",
      "Sub-Category is:  Cats & Dogs\n",
      "URL is:  https://www.trustpilot.com/categories/cats_dogs?numberofreviews=0&status=all&timeperiod=0\n"
     ]
    },
    {
     "name": "stderr",
     "output_type": "stream",
     "text": [
      "\n",
      " 50%|█████     | 3/6 [00:23<00:25,  8.58s/it]\u001b[A"
     ]
    },
    {
     "name": "stdout",
     "output_type": "stream",
     "text": [
      "Category is:  Animals & Pets\n",
      "Sub-Category is:  Horses & Riding\n",
      "URL is:  https://www.trustpilot.com/categories/horses_riding?numberofreviews=0&status=all&timeperiod=0\n"
     ]
    },
    {
     "name": "stderr",
     "output_type": "stream",
     "text": [
      "\n",
      " 67%|██████▋   | 4/6 [00:31<00:16,  8.32s/it]\u001b[A"
     ]
    },
    {
     "name": "stdout",
     "output_type": "stream",
     "text": [
      "Category is:  Animals & Pets\n",
      "Sub-Category is:  Pet Services\n",
      "URL is:  https://www.trustpilot.com/categories/pet_services?numberofreviews=0&status=all&timeperiod=0\n"
     ]
    },
    {
     "name": "stderr",
     "output_type": "stream",
     "text": [
      "\n",
      " 83%|████████▎ | 5/6 [00:39<00:08,  8.22s/it]\u001b[A"
     ]
    },
    {
     "name": "stdout",
     "output_type": "stream",
     "text": [
      "Category is:  Animals & Pets\n",
      "Sub-Category is:  Pet Stores\n",
      "URL is:  https://www.trustpilot.com/categories/pet_stores?numberofreviews=0&status=all&timeperiod=0\n"
     ]
    },
    {
     "name": "stderr",
     "output_type": "stream",
     "text": [
      "\n",
      "100%|██████████| 6/6 [02:27<00:00, 38.24s/it]\u001b[A\n",
      "  5%|▍         | 1/22 [02:27<51:44, 147.83s/it]A\n",
      "  0%|          | 0/7 [00:00<?, ?it/s]\u001b[A"
     ]
    },
    {
     "name": "stdout",
     "output_type": "stream",
     "text": [
      "Category is:  Beauty & Well-being\n",
      "Sub-Category is:  Cosmetics & Makeup\n",
      "URL is:  https://www.trustpilot.com/categories/cosmetics_makeup?numberofreviews=0&status=all&timeperiod=0\n"
     ]
    },
    {
     "name": "stderr",
     "output_type": "stream",
     "text": [
      "\n",
      " 14%|█▍        | 1/7 [01:45<10:31, 105.25s/it]\u001b[A"
     ]
    },
    {
     "name": "stdout",
     "output_type": "stream",
     "text": [
      "Category is:  Beauty & Well-being\n",
      "Sub-Category is:  Hair Care & Styling\n",
      "URL is:  https://www.trustpilot.com/categories/hair_care_styling?numberofreviews=0&status=all&timeperiod=0\n"
     ]
    },
    {
     "name": "stderr",
     "output_type": "stream",
     "text": [
      "\n",
      " 29%|██▊       | 2/7 [02:29<07:14, 86.90s/it] \u001b[A"
     ]
    },
    {
     "name": "stdout",
     "output_type": "stream",
     "text": [
      "Category is:  Beauty & Well-being\n",
      "Sub-Category is:  Personal Care\n",
      "URL is:  https://www.trustpilot.com/categories/personal_care?numberofreviews=0&status=all&timeperiod=0\n"
     ]
    },
    {
     "name": "stderr",
     "output_type": "stream",
     "text": [
      "\n",
      " 43%|████▎     | 3/7 [05:55<08:10, 122.66s/it]\u001b[A"
     ]
    },
    {
     "name": "stdout",
     "output_type": "stream",
     "text": [
      "Category is:  Beauty & Well-being\n",
      "Sub-Category is:  Salons & Clinics\n",
      "URL is:  https://www.trustpilot.com/categories/salons_clinics?numberofreviews=0&status=all&timeperiod=0\n"
     ]
    },
    {
     "name": "stderr",
     "output_type": "stream",
     "text": [
      "\n",
      " 57%|█████▋    | 4/7 [07:06<05:21, 107.31s/it]\u001b[A"
     ]
    },
    {
     "name": "stdout",
     "output_type": "stream",
     "text": [
      "Category is:  Beauty & Well-being\n",
      "Sub-Category is:  Tattoos & Piercings\n",
      "URL is:  https://www.trustpilot.com/categories/tattoos_piercings?numberofreviews=0&status=all&timeperiod=0\n"
     ]
    },
    {
     "name": "stderr",
     "output_type": "stream",
     "text": [
      "\n",
      " 71%|███████▏  | 5/7 [07:12<02:33, 76.80s/it] \u001b[A"
     ]
    },
    {
     "name": "stdout",
     "output_type": "stream",
     "text": [
      "Category is:  Beauty & Well-being\n",
      "Sub-Category is:  Wellness & Spa\n",
      "URL is:  https://www.trustpilot.com/categories/wellness_spa?numberofreviews=0&status=all&timeperiod=0\n"
     ]
    },
    {
     "name": "stderr",
     "output_type": "stream",
     "text": [
      "\n",
      " 86%|████████▌ | 6/7 [09:30<01:35, 95.25s/it]\u001b[A"
     ]
    },
    {
     "name": "stdout",
     "output_type": "stream",
     "text": [
      "Category is:  Beauty & Well-being\n",
      "Sub-Category is:  Yoga & Meditation\n",
      "URL is:  https://www.trustpilot.com/categories/yoga_meditation?numberofreviews=0&status=all&timeperiod=0\n"
     ]
    },
    {
     "name": "stderr",
     "output_type": "stream",
     "text": [
      "\n",
      "100%|██████████| 7/7 [09:40<00:00, 69.48s/it]\u001b[A\n",
      "  9%|▉         | 2/22 [12:08<1:32:30, 277.54s/it]\n",
      "  0%|          | 0/11 [00:00<?, ?it/s]\u001b[A"
     ]
    },
    {
     "name": "stdout",
     "output_type": "stream",
     "text": [
      "Category is:  Business Services\n",
      "Sub-Category is:  Administration & Services\n",
      "URL is:  https://www.trustpilot.com/categories/administration_services?numberofreviews=0&status=all&timeperiod=0\n"
     ]
    },
    {
     "name": "stderr",
     "output_type": "stream",
     "text": [
      "\n",
      "  9%|▉         | 1/11 [15:38<2:36:25, 938.53s/it]\u001b[A"
     ]
    },
    {
     "name": "stdout",
     "output_type": "stream",
     "text": [
      "Category is:  Business Services\n",
      "Sub-Category is:  Associations & Centers\n",
      "URL is:  https://www.trustpilot.com/categories/associations_centers?numberofreviews=0&status=all&timeperiod=0\n"
     ]
    },
    {
     "name": "stderr",
     "output_type": "stream",
     "text": [
      "\n",
      " 18%|█▊        | 2/11 [15:46<1:38:54, 659.34s/it]\u001b[A"
     ]
    },
    {
     "name": "stdout",
     "output_type": "stream",
     "text": [
      "Category is:  Business Services\n",
      "Sub-Category is:  HR & Recruiting\n",
      "URL is:  https://www.trustpilot.com/categories/hr_recruiting?numberofreviews=0&status=all&timeperiod=0\n"
     ]
    },
    {
     "name": "stderr",
     "output_type": "stream",
     "text": [
      "\n",
      " 27%|██▋       | 3/11 [16:44<1:03:51, 478.96s/it]\u001b[A"
     ]
    },
    {
     "name": "stdout",
     "output_type": "stream",
     "text": [
      "Category is:  Business Services\n",
      "Sub-Category is:  IT & Communication\n",
      "URL is:  https://www.trustpilot.com/categories/it_communication?numberofreviews=0&status=all&timeperiod=0\n"
     ]
    },
    {
     "name": "stderr",
     "output_type": "stream",
     "text": [
      "\n",
      " 36%|███▋      | 4/11 [32:23<1:11:58, 616.88s/it]\u001b[A"
     ]
    },
    {
     "name": "stdout",
     "output_type": "stream",
     "text": [
      "Category is:  Business Services\n",
      "Sub-Category is:  Import & Export\n",
      "URL is:  https://www.trustpilot.com/categories/import_export?numberofreviews=0&status=all&timeperiod=0\n"
     ]
    },
    {
     "name": "stderr",
     "output_type": "stream",
     "text": [
      "\n",
      " 45%|████▌     | 5/11 [32:30<43:24, 434.02s/it]  \u001b[A"
     ]
    },
    {
     "name": "stdout",
     "output_type": "stream",
     "text": [
      "Category is:  Business Services\n",
      "Sub-Category is:  Office Space & Supplies\n",
      "URL is:  https://www.trustpilot.com/categories/office_space_supplies?numberofreviews=0&status=all&timeperiod=0\n"
     ]
    },
    {
     "name": "stderr",
     "output_type": "stream",
     "text": [
      "\n",
      " 55%|█████▍    | 6/11 [33:21<26:35, 319.01s/it]\u001b[A"
     ]
    },
    {
     "name": "stdout",
     "output_type": "stream",
     "text": [
      "Category is:  Business Services\n",
      "Sub-Category is:  Print & Graphic Design\n",
      "URL is:  https://www.trustpilot.com/categories/print_graphic_design?numberofreviews=0&status=all&timeperiod=0\n"
     ]
    },
    {
     "name": "stderr",
     "output_type": "stream",
     "text": [
      "\n",
      " 64%|██████▎   | 7/11 [36:22<18:31, 277.83s/it]\u001b[A"
     ]
    },
    {
     "name": "stdout",
     "output_type": "stream",
     "text": [
      "Category is:  Business Services\n",
      "Sub-Category is:  Research & Development\n",
      "URL is:  https://www.trustpilot.com/categories/research_development?numberofreviews=0&status=all&timeperiod=0\n"
     ]
    },
    {
     "name": "stderr",
     "output_type": "stream",
     "text": [
      "\n",
      " 73%|███████▎  | 8/11 [37:11<10:27, 209.11s/it]\u001b[A"
     ]
    },
    {
     "name": "stdout",
     "output_type": "stream",
     "text": [
      "Category is:  Business Services\n",
      "Sub-Category is:  Sales & Marketing\n",
      "URL is:  https://www.trustpilot.com/categories/sales_marketing?numberofreviews=0&status=all&timeperiod=0\n"
     ]
    }
   ],
   "source": [
    "# scraping\n",
    "\n",
    "company_urls = {}\n",
    "count = 1\n",
    "for category in tqdm(data):\n",
    "    for sub_category in tqdm(data[category], leave=False):\n",
    "        company_urls[sub_category] = []\n",
    "        print(\"Category is: \", category)\n",
    "        print(\"Sub-Category is: \", sub_category)\n",
    "        url = base_url + data[category][sub_category] + \"?numberofreviews=0&status=all&timeperiod=0\"\n",
    "        driver.get(url)\n",
    "        print(\"URL is: \", url)\n",
    "        \n",
    "#         current_url =  driver.current_url\n",
    "#         print(\"Current URL is: \", current_url)\n",
    "        \n",
    "#         driver.implicitly_wait(10)\n",
    "        \n",
    "#         if data[category][sub_category] != ((current_url.split('.com'))[1].split('?')[0]):\n",
    "#             print(\"Change in Url is detected\")\n",
    "#             data[category][sub_category] = ((current_url.split('.com'))[1].split('?')[0])\n",
    "#             sub_category = ((current_url.split('/categories/'))[1].split('?')[0])\n",
    "#             print(\"Now data[category][sub_category] is : \", data[category][sub_category])\n",
    "            \n",
    "        try:\n",
    "            element_present = EC.presence_of_element_located(\n",
    "                (By.CLASS_NAME, 'internal___1jK0Z wrapper___26yB4'))\n",
    "            \n",
    "            WebDriverWait(driver, timeout).until(element_present)\n",
    "        except:\n",
    "            pass\n",
    "    \n",
    "        next_page = True\n",
    "        c = 1\n",
    "\n",
    "        while next_page:\n",
    "            #driver.implicitly_wait(10)\n",
    "            extracted_company_urls = extract_company_urls_form_page()\n",
    "            company_urls[sub_category] += extracted_company_urls\n",
    "            next_page, button = go_next_page()\n",
    "            \n",
    "            if next_page:\n",
    "                c += 1\n",
    "                next_url = base_url + data[category][sub_category] + \"?numberofreviews=0&status=all&timeperiod=0\" + f'&page={c}'\n",
    "                driver.get(next_url)\n",
    "                try: \n",
    "                    element_present = EC.presence_of_element_located(\n",
    "                        (By.CLASS_NAME, 'internal___1jK0Z wrapper___26yB4'))\n",
    "                    # wrapper___2rOTx\n",
    "                    WebDriverWait(driver, timeout).until(element_present)\n",
    "                    \n",
    "                    \n",
    "                except:\n",
    "                    pass"
   ]
  },
  {
   "cell_type": "code",
   "execution_count": null,
   "metadata": {},
   "outputs": [],
   "source": [
    "driver.quit()"
   ]
  },
  {
   "cell_type": "code",
   "execution_count": null,
   "metadata": {},
   "outputs": [],
   "source": [
    "with open('./exports/company_urls_en.json', 'w') as f:\n",
    "    json.dump(company_urls, f)"
   ]
  },
  {
   "cell_type": "code",
   "execution_count": null,
   "metadata": {},
   "outputs": [],
   "source": [
    "consolidated_data = []\n",
    "\n",
    "for category in data:\n",
    "    for sub_category in data[category]:\n",
    "        for url in company_urls[sub_category]:\n",
    "            consolidated_data.append((category, sub_category, url))\n",
    "\n",
    "df_consolidated_data = pd.DataFrame(consolidated_data, columns=['category', 'sub_category', 'company_url'])\n",
    "\n",
    "df_consolidated_data.to_csv('./exports/consolidate_company_urls.csv', index=False)"
   ]
  },
  {
   "cell_type": "code",
   "execution_count": null,
   "metadata": {},
   "outputs": [],
   "source": [
    "df_consolidated_data.head()"
   ]
  },
  {
   "cell_type": "code",
   "execution_count": null,
   "metadata": {},
   "outputs": [],
   "source": []
  }
 ],
 "metadata": {
  "kernelspec": {
   "display_name": "Python 3",
   "language": "python",
   "name": "python3"
  },
  "language_info": {
   "codemirror_mode": {
    "name": "ipython",
    "version": 3
   },
   "file_extension": ".py",
   "mimetype": "text/x-python",
   "name": "python",
   "nbconvert_exporter": "python",
   "pygments_lexer": "ipython3",
   "version": "3.7.6"
  }
 },
 "nbformat": 4,
 "nbformat_minor": 4
}
