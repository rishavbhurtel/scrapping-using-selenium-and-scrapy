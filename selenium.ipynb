{
 "cells": [
  {
   "cell_type": "code",
   "execution_count": null,
   "metadata": {},
   "outputs": [],
   "source": [
    "import json\n",
    "import time\n",
    "\n",
    "from bs4 import BeautifulSoup\n",
    "import requests\n",
    "import pandas as pd\n",
    "\n",
    "from selenium import webdriver\n",
    "from selenium.common.exceptions import NoSuchElementException\n",
    "from selenium.common.exceptions import TimeoutException\n",
    "from selenium.webdriver.support.ui import WebDriverWait\n",
    "from selenium.webdriver.support import expected_conditions as EC\n",
    "from selenium.webdriver.common.by import By\n",
    "from selenium.webdriver.firefox.options import Options\n",
    "\n",
    "from tqdm import tqdm"
   ]
  },
  {
   "cell_type": "code",
   "execution_count": null,
   "metadata": {},
   "outputs": [],
   "source": [
    "base_url = \"https://www.trustpilot.com\""
   ]
  },
  {
   "cell_type": "code",
   "execution_count": null,
   "metadata": {},
   "outputs": [],
   "source": [
    "def get_soup(url):\n",
    "    return BeautifulSoup(requests.get(url).content, 'lxml')"
   ]
  },
  {
   "cell_type": "code",
   "execution_count": null,
   "metadata": {},
   "outputs": [],
   "source": [
    "#fetching sub-categories urls:\n",
    "\n",
    "data = {}\n",
    "\n",
    "soup = get_soup(base_url + '/categories')\n",
    "for category in soup.findAll('div', {'class': 'subCategory___BRUDy'}):\n",
    "    name = category.find('h3', {'class': 'subCategoryHeader___36ykD'}).text\n",
    "    name = name.strip()\n",
    "    data[name] = {}\n",
    "    \n",
    "    sub_categories = category.find('div', {'class': 'subCategoryList___r67Qj'})\n",
    "    for sub_category in sub_categories.findAll('div', {'class': 'subCategoryItem___3ksKz'}):\n",
    "        sub_category_name = sub_category.find('a', {'class': 'navigation___2Efid'}).text \n",
    "        sub_category_uri = sub_category.find('a', {'class': 'navigation___2Efid'})['href'] \n",
    "        data[name][sub_category_name] = sub_category_uri"
   ]
  },
  {
   "cell_type": "code",
   "execution_count": null,
   "metadata": {},
   "outputs": [],
   "source": [
    "len(data)"
   ]
  },
  {
   "cell_type": "code",
   "execution_count": null,
   "metadata": {},
   "outputs": [],
   "source": [
    "data"
   ]
  },
  {
   "cell_type": "code",
   "execution_count": null,
   "metadata": {},
   "outputs": [],
   "source": [
    "# data = dict((key,value) for key, value in data.items() if key == 'Events & Entertainment')"
   ]
  },
  {
   "cell_type": "code",
   "execution_count": null,
   "metadata": {},
   "outputs": [],
   "source": [
    "data.pop(\"Events & Entertainment\")\n",
    "data.pop(\"Home Services\")"
   ]
  },
  {
   "cell_type": "code",
   "execution_count": null,
   "metadata": {},
   "outputs": [],
   "source": [
    "data"
   ]
  },
  {
   "cell_type": "code",
   "execution_count": null,
   "metadata": {},
   "outputs": [],
   "source": [
    "# fetch company urls referenced in a given subcategory:\n",
    "\n",
    "def extract_company_urls_form_page():\n",
    "    a_list = driver.find_elements_by_xpath('(//div[@class=\"businessUnitCardsContainer___Qhix1\"])/a')\n",
    "    urls = [a.get_attribute('href') for a in a_list]\n",
    "    dedup_urls = list(set(urls))\n",
    "    return dedup_urls"
   ]
  },
  {
   "cell_type": "code",
   "execution_count": null,
   "metadata": {},
   "outputs": [],
   "source": [
    "# if a pagination exists on the page:\n",
    "\n",
    "def go_next_page():\n",
    "    try:\n",
    "        button = driver.find_element_by_xpath('//a[@class=\"paginationLinkNormalize___scOgG paginationLinkNext___1LQ14\"]')\n",
    "        return True, button\n",
    "    except NoSuchElementException:\n",
    "        return False, None"
   ]
  },
  {
   "cell_type": "code",
   "execution_count": null,
   "metadata": {},
   "outputs": [],
   "source": [
    "# initializing Selenium with a headless firefoxdriver:\n",
    "\n",
    "options = Options()\n",
    "options.add_argument('-headless')\n",
    "options.add_argument('-no-sandbox')\n",
    "options.add_argument('start-maximized')\n",
    "options.add_argument('disable-infobars')\n",
    "options.add_argument(\"--disable-extensions\")\n",
    "\n",
    "# profile = webdriver.FirefoxProfile()\n",
    "# profile.set_preference(\"browser.cache.disk.enable\", False)\n",
    "# profile.set_preference(\"browser.cache.memory.enable\", False)\n",
    "# profile.set_preference(\"browser.cache.offline.enable\", False)\n",
    "# profile.set_preference(\"network.http.use-cache\", False)\n",
    "\n",
    "driver = webdriver.Firefox(executable_path=r'driver\\geckodriver.exe', options=options)\n",
    "\n",
    "timeout = 3"
   ]
  },
  {
   "cell_type": "code",
   "execution_count": null,
   "metadata": {},
   "outputs": [],
   "source": [
    "# scraping\n",
    "\n",
    "company_urls = {}\n",
    "count = 1\n",
    "for category in tqdm(data):\n",
    "    for sub_category in tqdm(data[category], leave=False):\n",
    "        company_urls[sub_category] = []\n",
    "        print(\"Category is: \", category)\n",
    "        print(\"Sub-Category is: \", sub_category)\n",
    "        url = base_url + data[category][sub_category] + \"?numberofreviews=0&status=all&timeperiod=0\"\n",
    "        driver.get(url)\n",
    "        print(\"URL is: \", url)\n",
    "        \n",
    "#         current_url =  driver.current_url\n",
    "#         print(\"Current URL is: \", current_url)\n",
    "        \n",
    "#         driver.implicitly_wait(10)\n",
    "        \n",
    "#         if data[category][sub_category] != ((current_url.split('.com'))[1].split('?')[0]):\n",
    "#             print(\"Change in Url is detected\")\n",
    "#             data[category][sub_category] = ((current_url.split('.com'))[1].split('?')[0])\n",
    "#             sub_category = ((current_url.split('/categories/'))[1].split('?')[0])\n",
    "#             print(\"Now data[category][sub_category] is : \", data[category][sub_category])\n",
    "            \n",
    "        try:\n",
    "            element_present = EC.presence_of_element_located(\n",
    "                (By.CLASS_NAME, 'wrapper___2rOTx'))\n",
    "            \n",
    "            WebDriverWait(driver, timeout).until(element_present)\n",
    "        except:\n",
    "            pass\n",
    "    \n",
    "        next_page = True\n",
    "        c = 1\n",
    "\n",
    "        while next_page:\n",
    "            #driver.implicitly_wait(10)\n",
    "            extracted_company_urls = extract_company_urls_form_page()\n",
    "            company_urls[sub_category] += extracted_company_urls\n",
    "            next_page, button = go_next_page()\n",
    "            \n",
    "            count = count + 1\n",
    "            \n",
    "            if count > 200:\n",
    "                driver.close()\n",
    "                driver = webdriver.Firefox(executable_path=r'driver\\geckodriver.exe', options=options)\n",
    "                count = 1\n",
    "                print(\"\\nClosed and then Up Again\\n\")\n",
    "            \n",
    "            if next_page:\n",
    "                c += 1\n",
    "                next_url = base_url + data[category][sub_category] + \"?numberofreviews=0&status=all&timeperiod=0\" + f'&page={c}'\n",
    "                driver.get(next_url)\n",
    "                try: \n",
    "                    element_present = EC.presence_of_element_located(\n",
    "                        (By.CLASS_NAME, 'wrapper___2rOTx'))\n",
    "                    # wrapper___2rOTx\n",
    "                    WebDriverWait(driver, timeout).until(element_present)\n",
    "                    \n",
    "                    \n",
    "                except:\n",
    "                    pass"
   ]
  },
  {
   "cell_type": "code",
   "execution_count": null,
   "metadata": {},
   "outputs": [],
   "source": [
    "driver.quit()"
   ]
  },
  {
   "cell_type": "code",
   "execution_count": null,
   "metadata": {},
   "outputs": [],
   "source": [
    "with open('./exports/company_urls_en.json', 'w') as f:\n",
    "    json.dump(company_urls, f)"
   ]
  },
  {
   "cell_type": "code",
   "execution_count": null,
   "metadata": {},
   "outputs": [],
   "source": [
    "consolidated_data = []\n",
    "\n",
    "for category in data:\n",
    "    for sub_category in data[category]:\n",
    "        for url in company_urls[sub_category]:\n",
    "            consolidated_data.append((category, sub_category, url))\n",
    "\n",
    "df_consolidated_data = pd.DataFrame(consolidated_data, columns=['category', 'sub_category', 'company_url'])\n",
    "\n",
    "df_consolidated_data.to_csv('./exports/consolidate_company_urls.csv', index=False)"
   ]
  },
  {
   "cell_type": "code",
   "execution_count": null,
   "metadata": {},
   "outputs": [],
   "source": [
    "df_consolidated_data.head()"
   ]
  },
  {
   "cell_type": "code",
   "execution_count": null,
   "metadata": {},
   "outputs": [],
   "source": []
  }
 ],
 "metadata": {
  "kernelspec": {
   "display_name": "Python 3",
   "language": "python",
   "name": "python3"
  },
  "language_info": {
   "codemirror_mode": {
    "name": "ipython",
    "version": 3
   },
   "file_extension": ".py",
   "mimetype": "text/x-python",
   "name": "python",
   "nbconvert_exporter": "python",
   "pygments_lexer": "ipython3",
   "version": "3.7.6"
  }
 },
 "nbformat": 4,
 "nbformat_minor": 4
}
