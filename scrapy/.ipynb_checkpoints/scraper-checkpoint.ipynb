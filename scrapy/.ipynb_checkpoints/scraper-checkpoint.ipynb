{
 "cells": [
  {
   "cell_type": "code",
   "execution_count": null,
   "metadata": {},
   "outputs": [],
   "source": [
    "import re\n",
    "import pandas as pd\n",
    "import scrapy\n",
    "\n",
    "class Pages(scrapy.Spider):\n",
    "    name = \"trustpilot\"\n",
    "\n",
    "    company_data = pd.read_csv('../selenium/exports/consolidate_company_urls.csv')\n",
    "    start_urls = company_data['company_url'].unique().tolist()\n",
    "\n",
    "    def parse(self, response):\n",
    "        company_logo = response.xpath('//img[@class=\"business-unit-profile-summary__image\"]/@src').extract_first()\n",
    "        company_website = response.xpath(\"//a[@class='badge-card__section badge-card__section--hoverable']/@href\").extract_first()\n",
    "        company_name = response.xpath(\"//span[@class='multi-size-header__big']/text()\").extract_first()\n",
    "        comments = response.xpath(\"//p[@class='review-content__text']\")\n",
    "        comments = [comment.xpath('.//text()').extract() for comment in comments]\n",
    "        comments = [[c.strip() for c in comment_list] for comment_list in comments]\n",
    "        comments = [' '.join(comment_list) for comment_list in comments]\n",
    "\n",
    "        ratings = response.xpath(\"//div[@class='star-rating star-rating--medium']//img/@alt\").extract()\n",
    "        ratings = [int(re.match('\\d+', rating).group(0)) for rating in ratings]\n",
    "\n",
    "        for comment, rating in zip(comments, ratings):\n",
    "            yield {\n",
    "                'comment': comment,\n",
    "                'rating': rating,\n",
    "                'url_website' : response.url,\n",
    "                'company_name': company_name,\n",
    "                'company_website': company_website,\n",
    "                'company_logo': company_logo\n",
    "            }\n",
    "\n",
    "        next_page = response.css('a[data-page-number=next-page] ::attr(href)').extract_first()\n",
    "        if next_page is not None:\n",
    "            request = response.follow(next_page, callback=self.parse)\n",
    "            yield request"
   ]
  }
 ],
 "metadata": {
  "kernelspec": {
   "display_name": "Python 3",
   "language": "python",
   "name": "python3"
  },
  "language_info": {
   "codemirror_mode": {
    "name": "ipython",
    "version": 3
   },
   "file_extension": ".py",
   "mimetype": "text/x-python",
   "name": "python",
   "nbconvert_exporter": "python",
   "pygments_lexer": "ipython3",
   "version": "3.7.6"
  }
 },
 "nbformat": 4,
 "nbformat_minor": 4
}
